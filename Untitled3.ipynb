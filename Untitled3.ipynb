{
 "cells": [
  {
   "cell_type": "markdown",
   "id": "fc8742b8",
   "metadata": {},
   "source": [
    "# DRUG PREDECTION"
   ]
  },
  {
   "cell_type": "markdown",
   "id": "54302607",
   "metadata": {},
   "source": [
    "## inLab ##\n",
    "\n",
    "### Company Introduction ###\n",
    "\n",
    "Your client for this project is a pharmaceutical company.\n",
    "\n",
    "They have a long history of making effective drugs and are the leading producer of antibiotics for bacterial infection.\n",
    "Their research and development team have recently developed five types of drugs to fight against chronic throat infection.\n",
    "They want to quickly release the drug in the market so that they could cure people and increase revenue for the company.\n",
    "Their R&D team made a brief analysis of the chemical composition present in the drug and made a brief report stating that each drug has a different effect according to their health.\n",
    "The drug which has a higher concentration of chemicals should be given to those groups of people whose health report passes some criteria as suggested by the R&D team.\n",
    "\n",
    "### Current Scenario ###\n",
    "\n",
    "The R&D group has invited some groups of people to test the drug, but going through each person’s health report might take a lot of time and cause a delay in launching the drug in the market.\n",
    "Activity Logs\n",
    "\n"
   ]
  },
  {
   "cell_type": "markdown",
   "id": "bb0eb10e",
   "metadata": {},
   "source": [
    "### Problem Statement ###\n",
    "\n",
    "\n",
    "The current process suffers from the following problems:\n",
    "\n",
    "- Testing phase takes a lot of time and it's done manually because they need to carefully examine each person for the side effects.\n",
    "- Most of the crucial time is being wasted in checking each person’s health report and dispensing specific drugs according to the health metric as suggested by the R&D team.\n",
    "- This process is time-consuming and wastage of resources.\n",
    "\n",
    "The company has hired you as data science consultants. They want to automate the process of assigning the drug according to their health report.\n",
    "\n",
    "### Your Role ###\n",
    "\n",
    "\n",
    "- You are given a dataset containing the health report of the people from the test group.\n",
    "- Your task is to build a multi-class classification model using the dataset.\n",
    "- Because there was no machine learning model for this problem in the company, you don’t have a quantifiable win condition.  - You need to build the best possible model.\n",
    "\n",
    "### Project Deliverables ###\n",
    "\n",
    "**Deliverable**: Drug classification.\n",
    "**Machine Learning Task:** Multi-class classification\n",
    "**Target Variable:** Drug\n",
    "**Win Condition:** N/A (best possible model)\n",
    "\n",
    "**Evaluation Metric**\n",
    "The model evaluation will be based on the **Accuracy Score**."
   ]
  },
  {
   "cell_type": "markdown",
   "id": "37807e5f",
   "metadata": {},
   "source": [
    "### Data Description ###\n",
    "\n",
    "The dataset contains all the necessary information about the person’s health like their sex, BP, Age, Cholesterol etc.\n",
    "\n",
    "We have the **health metrics** of the person which is an essential factor for transcribing the drug to that person without any side effect.\n",
    "\n",
    "This is the data that we have to predict for future samples.\n",
    "\n",
    "\n",
    "The dataset is divided into two parts: **Train**, and **Test** sets.\n",
    "\n",
    "#### Train Set: ####\n",
    "\n",
    "- The train set contains 160 rows and 7 columns.\n",
    "- The last column **Drug** is the target variable.\n",
    "\n",
    "#### Test Set: ####\n",
    "\n",
    "- The test set contains **40** rows and **6** columns.\n",
    "- The test set doesn’t contain the **Drug column**.\n",
    "- It needs to be **predicted** for the **test set**.\n",
    "\n"
   ]
  },
  {
   "cell_type": "code",
   "execution_count": 2,
   "id": "23709740",
   "metadata": {},
   "outputs": [],
   "source": [
    "\n",
    "import pandas as pd                                             # Importing Pandas for Data Ananlysis and Manipulation                      \n",
    "from pandas_profiling import ProfileReport                      # for generating profile report    \n",
    "pd.set_option('display.max_columns', None)                      # Unfolding hidden features if the cardinality is high\n",
    "pd.set_option('display.max_rows', None)                         # Unfolding hidden data points if the cardinality is high\n",
    "pd.set_option('mode.chained_assignment', None)                  # Removing restriction over chained assignments operations\n",
    "import numpy as np                                              # For high-level mathmematical functions     \n",
    "from scipy.stats import randint as sp_randint                   # For initiallizing Randon Integer   \n",
    "import matplotlib.pyplot as plt                                 # For plotting graphs    \n",
    "import seaborn as sns                                           # For interactive data vizualization    \n",
    "%matplotlib inline                                              \n",
    "\n",
    "import sklearn.metrics                                          # For assessing qualtiy of predections\n",
    "from sklearn.preprocessing import StandardScaler                # To standardize features by removing the mean and scaling to unit variance.   \n",
    "from sklearn.model_selection import RandomizedSearchCV          # For random combinations of the hyperparameters ,used to find the best solution for the built model.    \n",
    "from sklearn.metrics import classification_report               # To generate classification report    \n",
    "from sklearn.metrics import plot_confusion_matrix               # For plotting confusion matrix, to define the performance of classification algorithm   \n",
    "#import pydotplus                                               # for generating pydot file \n",
    "from IPython.display import Image                               # For generating image using pydot file    \n",
    "\n",
    "from sklearn.metrics import accuracy_score                      # For calcuating the accuracy of the model    \n",
    "from sklearn.metrics import precision_score                     # For calculating the precision of the model    \n",
    "from sklearn.metrics import recall_score                        # For calculating the recall of the model   \n",
    "from sklearn.metrics import precision_recall_curve              # For precision and recall metric estimation\n",
    "from sklearn.metrics import confusion_matrix                    # For defining performance of classification algorithm     \n",
    "from sklearn.metrics import f1_score                            # For measuring a model's accuracy on dataset.    \n",
    "from sklearn.metrics import roc_curve                           # For showing the performance of classification model at all classification thresholds.    \n",
    "from sklearn.metrics import plot_roc_curve                      # For plotting ROC curve\n",
    "from sklearn.model_selection import train_test_split            # For splitting the data into training and testing data set     \n",
    "from sklearn.linear_model import LogisticRegression             # For implementing Logistic regression    \n",
    "import warnings                                                 # For disabling warings    \n",
    "warnings.filterwarnings(\"ignore\")"
   ]
  },
  {
   "cell_type": "markdown",
   "id": "2697f39e",
   "metadata": {},
   "source": [
    "### Data Acquisiton \n",
    "\n",
    "We have the **health metrics** of the person which is an essential factor for transcribing the drug to that person without any side effect.\n",
    "\n",
    "- The **train** set contains 160 rows and 7 columns.\n",
    "- The **test** set contains **40** rows and **6** columns.\n",
    "- The last column **Drug** is the target variable, it needs to be predecited for the test dataset\n",
    "\n",
    "\n",
    "- Loading test and train datasets\n"
   ]
  },
  {
   "cell_type": "code",
   "execution_count": 5,
   "id": "770ca6d0",
   "metadata": {},
   "outputs": [
    {
     "ename": "SyntaxError",
     "evalue": "(unicode error) 'unicodeescape' codec can't decode bytes in position 2-3: truncated \\UXXXXXXXX escape (2660748289.py, line 3)",
     "output_type": "error",
     "traceback": [
      "\u001b[1;36m  Cell \u001b[1;32mIn [5], line 3\u001b[1;36m\u001b[0m\n\u001b[1;33m    train = pd.read_csv(\"C:\\Users\\roshn\\Downloads\\Drug-Prediction1(1)\\drug_train.csv\")\u001b[0m\n\u001b[1;37m                                                                                     ^\u001b[0m\n\u001b[1;31mSyntaxError\u001b[0m\u001b[1;31m:\u001b[0m (unicode error) 'unicodeescape' codec can't decode bytes in position 2-3: truncated \\UXXXXXXXX escape\n"
     ]
    }
   ],
   "source": [
    "#loading train dataset \n",
    "\n",
    "train = pd.read_csv(\"C:\\Users\\roshn\\Downloads\\Drug-Prediction1(1)\\drug_train.csv\")\n"
   ]
  },
  {
   "cell_type": "code",
   "execution_count": null,
   "id": "c6a3a08f",
   "metadata": {},
   "outputs": [],
   "source": []
  }
 ],
 "metadata": {
  "kernelspec": {
   "display_name": "Python 3 (ipykernel)",
   "language": "python",
   "name": "python3"
  },
  "language_info": {
   "codemirror_mode": {
    "name": "ipython",
    "version": 3
   },
   "file_extension": ".py",
   "mimetype": "text/x-python",
   "name": "python",
   "nbconvert_exporter": "python",
   "pygments_lexer": "ipython3",
   "version": "3.10.7"
  }
 },
 "nbformat": 4,
 "nbformat_minor": 5
}
